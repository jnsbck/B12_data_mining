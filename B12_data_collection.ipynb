{
 "cells": [
  {
   "cell_type": "code",
   "execution_count": 1,
   "metadata": {},
   "outputs": [],
   "source": [
    "import pandas as pd\n",
    "import matplotlib.pyplot as plt # for plotting data\n",
    "\n",
    "from bs4 import BeautifulSoup\n",
    "import requests # fetches html content of a website\n",
    "from urllib.request import HTTPError # for catching timeout for website response\n",
    "from urllib.request import urlopen\n",
    "from urllib.request import URLError\n",
    "\n",
    "import time # for sleep function\n",
    "from datetime import datetime # for timestamp\n",
    "\n",
    "import re # for regular expressions\n",
    "import os\n",
    "import numpy as np"
   ]
  },
  {
   "cell_type": "code",
   "execution_count": 130,
   "metadata": {},
   "outputs": [],
   "source": [
    "# B12 js query for capacity\n",
    "URL = 'https://111.webclimber.de/de/trafficlight?\\\n",
    "callback=WebclimberTrafficlight.insertTrafficlight&\\\n",
    "key=184xNhv6RRU7H2gVg8QFyHCYxym8DKve&\\\n",
    "hid=111&\\\n",
    "container=trafficlightContainer&\\\n",
    "type=&\\\n",
    "area='"
   ]
  },
  {
   "cell_type": "code",
   "execution_count": 2,
   "metadata": {},
   "outputs": [],
   "source": [
    "def webpage2soup(url, parser=\"html.parser\"):\n",
    "    headers = {\n",
    "    'User-Agent': 'Mozilla/5.0 (Windows NT 6.1)\\\n",
    "     AppleWebKit/537.36 (KHTML, like Gecko)\\\n",
    "     Chrome/41.0.2228.0 Safari/537.36',\n",
    "    }\n",
    "    res = requests.get(url, headers=headers)\n",
    "    res.raise_for_status()\n",
    "\n",
    "    soup = BeautifulSoup(res.text, parser)\n",
    "    return soup\n",
    "            \n",
    "def online(url=\"http://google.com\"):\n",
    "    Online = False\n",
    "    try:\n",
    "        urlopen(url, timeout=1)\n",
    "        Online = True\n",
    "    except URLError as err:\n",
    "        Online = False\n",
    "    return Online\n",
    "\n",
    "def get_current_capacity():\n",
    "    js_query = 'https://111.webclimber.de/de/trafficlight?\\\n",
    "    callback=WebclimberTrafficlight.insertTrafficlight&\\\n",
    "    key=184xNhv6RRU7H2gVg8QFyHCYxym8DKve&\\\n",
    "    hid=111&\\\n",
    "    container=trafficlightContainer&\\\n",
    "    type=&\\\n",
    "    area='\n",
    "    \n",
    "    soup = webpage2soup(js_query)\n",
    "    percentage_str, num_str = [str(x) for x in soup.div.find_all(\"div\")[-2:]]\n",
    "    \n",
    "    \n",
    "    percentage_template = r\"[0-9]+%\"\n",
    "    regex = re.compile(percentage_template)\n",
    "    m = regex.search(percentage_str)\n",
    "    percentage = int(m.group()[:-1])\n",
    "\n",
    "    num_template = r\"[0-9]+\"\n",
    "    regex = re.compile(num_template)\n",
    "    m = regex.search(num_str)\n",
    "    num = int(m.group())\n",
    "    return num, percentage\n",
    "\n",
    "def str2datetime(string, fmt=\"%H:%M\"):\n",
    "    if type(string) is str:\n",
    "        return datetime.strptime(string, fmt)\n",
    "    if type(string) is list:\n",
    "        return [datetime.strptime(x, fmt) for x in string]\n",
    "\n",
    "def is_open(timestamp=datetime.now(), return_state=True):\n",
    "    state = False\n",
    "    opening_times = {\"Mon\":[\"09:30\",\"23:00\"], \n",
    "                     \"Tue\":[\"09:30\",\"23:00\"], \n",
    "                     \"Wed\":[\"08:30\",\"23:00\"], \n",
    "                     \"Thu\":[\"12:30\",\"23:00\"], \n",
    "                     \"Fri\":[\"09:30\",\"23:00\"], \n",
    "                     \"Sat\":[\"10:00\",\"22:00\"], \n",
    "                     \"Sun\":[\"10:00\",\"21:30\"]}\n",
    "    weekdays = list(opening_times.keys())\n",
    "    \n",
    "    day = weekdays[timestamp.weekday()]\n",
    "    opening_time, closing_time = str2datetime(opening_times[day])\n",
    "    \n",
    "    if return_state:\n",
    "        if timestamp.time() > opening_time.time() and timestamp.time() < closing_time.time():\n",
    "            state = True\n",
    "        else:\n",
    "            state = False\n",
    "        return state\n",
    "    else:\n",
    "        # needs to be tested\n",
    "        opening_time, closing_time = opening_times[day]\n",
    "        next_day = weekdays[(timestamp.weekday()+1)%7]\n",
    "        next_opening_time, next_closing_time = str2datetime(opening_times[next_day])\n",
    "        \n",
    "        return closing_time, next_opening_time"
   ]
  },
  {
   "cell_type": "code",
   "execution_count": 5,
   "metadata": {},
   "outputs": [
    {
     "name": "stdout",
     "output_type": "stream",
     "text": [
      "The B12 is currently closed. Waiting till it opens again @ 10:00.\n"
     ]
    },
    {
     "ename": "KeyboardInterrupt",
     "evalue": "",
     "output_type": "error",
     "traceback": [
      "\u001b[0;31m---------------------------------------------------------------------------\u001b[0m",
      "\u001b[0;31mKeyboardInterrupt\u001b[0m                         Traceback (most recent call last)",
      "\u001b[0;32m<ipython-input-5-f9aea847c98c>\u001b[0m in \u001b[0;36m<module>\u001b[0;34m\u001b[0m\n\u001b[1;32m     39\u001b[0m               \u001b[0;34m+\u001b[0m \u001b[0mdatetime\u001b[0m\u001b[0;34m.\u001b[0m\u001b[0mstrftime\u001b[0m\u001b[0;34m(\u001b[0m\u001b[0mnext_opening_time\u001b[0m\u001b[0;34m,\u001b[0m \u001b[0;34m\"%H:%M\"\u001b[0m\u001b[0;34m)\u001b[0m \u001b[0;34m+\u001b[0m \u001b[0;34m\".\"\u001b[0m\u001b[0;34m\u001b[0m\u001b[0;34m\u001b[0m\u001b[0m\n\u001b[1;32m     40\u001b[0m              )\n\u001b[0;32m---> 41\u001b[0;31m         \u001b[0mtime\u001b[0m\u001b[0;34m.\u001b[0m\u001b[0msleep\u001b[0m\u001b[0;34m(\u001b[0m\u001b[0;34m(\u001b[0m\u001b[0mnext_opening_time\u001b[0m\u001b[0;34m-\u001b[0m\u001b[0mnow\u001b[0m\u001b[0;34m)\u001b[0m\u001b[0;34m.\u001b[0m\u001b[0mseconds\u001b[0m\u001b[0;34m)\u001b[0m\u001b[0;34m\u001b[0m\u001b[0;34m\u001b[0m\u001b[0m\n\u001b[0m",
      "\u001b[0;31mKeyboardInterrupt\u001b[0m: "
     ]
    }
   ],
   "source": [
    "log = pd.DataFrame(columns=[\"Free Spots\", \"Capacity\", \"Time\", \"Weekday\", \"DateTime\"])\n",
    "save2file = \"log.csv\"\n",
    "\n",
    "if os.path.isfile(save2file):\n",
    "    print(\"logfile already exists, adding new data to existing file.\")\n",
    "    log = pd.read_csv(save2file, sep=\";\")\n",
    "\n",
    "while True:\n",
    "    now = datetime.now() # neccesary?\n",
    "    if is_open(now):\n",
    "        if online():\n",
    "            timestamp = datetime.now()\n",
    "            timestamp_str = datetime.strftime(timestamp, \"%H:%M, %m/%d/%Y\")\n",
    "            weekdays = [\"Mon\", \"Tue\", \"Wed\", \"Thu\", \"Fri\", \"Sat\", \"Sun\"]\n",
    "            timeofday = datetime.strftime(timestamp, \"%H:%M\")\n",
    "            day = weekdays[timestamp.weekday()]\n",
    "\n",
    "            print(\"fetching data from B12 API @ \" + timestamp_str, end=\" --> \")\n",
    "            payload = get_current_capacity()\n",
    "            absolute, relative = payload\n",
    "            update = pd.DataFrame({\"Free Spots\":[absolute], \n",
    "                                   \"Capacity\":[relative], \n",
    "                                   \"Time\":[timeofday], \n",
    "                                   \"Weekday\":[day], \n",
    "                                   \"DateTime\":[timestamp_str]\n",
    "                                  })\n",
    "            print(\"Free Spots = {0}, Capacity = {1}%.\".format(absolute, relative))\n",
    "            #print(\"updating logfile\")\n",
    "            log = log.append(update, ignore_index=True, sort=False)\n",
    "            log.to_csv(save2file, index=False, sep=\";\")\n",
    "            time.sleep(60*5)\n",
    "        else:\n",
    "            print(\"Error while trying to reach internet. Waiting 5min then trying again...\")\n",
    "            time.sleep(60*5)\n",
    "    else:\n",
    "        now = datetime.now()\n",
    "        closing_time, next_opening_time = is_open(now, return_state=False)\n",
    "        print(\"The B12 is currently closed. Waiting till it opens again @ \" \n",
    "              + datetime.strftime(next_opening_time, \"%H:%M\") + \".\"\n",
    "             )\n",
    "        time.sleep((next_opening_time-now).seconds)"
   ]
  },
  {
   "cell_type": "code",
   "execution_count": 3,
   "metadata": {},
   "outputs": [
    {
     "data": {
      "text/plain": [
       "False"
      ]
     },
     "execution_count": 3,
     "metadata": {},
     "output_type": "execute_result"
    }
   ],
   "source": [
    "is_open(str2datetime(\"23:33, 08/28/2020\", \"%H:%M, %m/%d/%Y\"))"
   ]
  },
  {
   "cell_type": "markdown",
   "metadata": {},
   "source": [
    "### Import"
   ]
  },
  {
   "cell_type": "code",
   "execution_count": 591,
   "metadata": {},
   "outputs": [
    {
     "data": {
      "text/html": [
       "<div>\n",
       "<style scoped>\n",
       "    .dataframe tbody tr th:only-of-type {\n",
       "        vertical-align: middle;\n",
       "    }\n",
       "\n",
       "    .dataframe tbody tr th {\n",
       "        vertical-align: top;\n",
       "    }\n",
       "\n",
       "    .dataframe thead th {\n",
       "        text-align: right;\n",
       "    }\n",
       "</style>\n",
       "<table border=\"1\" class=\"dataframe\">\n",
       "  <thead>\n",
       "    <tr style=\"text-align: right;\">\n",
       "      <th></th>\n",
       "      <th>Free Spots</th>\n",
       "      <th>Capacity</th>\n",
       "      <th>Time</th>\n",
       "      <th>Day</th>\n",
       "      <th>DateTime</th>\n",
       "      <th>Date</th>\n",
       "    </tr>\n",
       "  </thead>\n",
       "  <tbody>\n",
       "    <tr>\n",
       "      <th>0</th>\n",
       "      <td>38</td>\n",
       "      <td>46</td>\n",
       "      <td>11:03:00</td>\n",
       "      <td>Fri</td>\n",
       "      <td>2020-08-28 11:03:00</td>\n",
       "      <td>2020-08-28</td>\n",
       "    </tr>\n",
       "    <tr>\n",
       "      <th>1</th>\n",
       "      <td>37</td>\n",
       "      <td>48</td>\n",
       "      <td>11:08:00</td>\n",
       "      <td>Fri</td>\n",
       "      <td>2020-08-28 11:08:00</td>\n",
       "      <td>2020-08-28</td>\n",
       "    </tr>\n",
       "    <tr>\n",
       "      <th>2</th>\n",
       "      <td>37</td>\n",
       "      <td>48</td>\n",
       "      <td>11:13:00</td>\n",
       "      <td>Fri</td>\n",
       "      <td>2020-08-28 11:13:00</td>\n",
       "      <td>2020-08-28</td>\n",
       "    </tr>\n",
       "    <tr>\n",
       "      <th>3</th>\n",
       "      <td>33</td>\n",
       "      <td>54</td>\n",
       "      <td>11:18:00</td>\n",
       "      <td>Fri</td>\n",
       "      <td>2020-08-28 11:18:00</td>\n",
       "      <td>2020-08-28</td>\n",
       "    </tr>\n",
       "    <tr>\n",
       "      <th>4</th>\n",
       "      <td>33</td>\n",
       "      <td>54</td>\n",
       "      <td>11:23:00</td>\n",
       "      <td>Fri</td>\n",
       "      <td>2020-08-28 11:23:00</td>\n",
       "      <td>2020-08-28</td>\n",
       "    </tr>\n",
       "  </tbody>\n",
       "</table>\n",
       "</div>"
      ],
      "text/plain": [
       "   Free Spots  Capacity      Time  Day            DateTime        Date\n",
       "0          38        46  11:03:00  Fri 2020-08-28 11:03:00  2020-08-28\n",
       "1          37        48  11:08:00  Fri 2020-08-28 11:08:00  2020-08-28\n",
       "2          37        48  11:13:00  Fri 2020-08-28 11:13:00  2020-08-28\n",
       "3          33        54  11:18:00  Fri 2020-08-28 11:18:00  2020-08-28\n",
       "4          33        54  11:23:00  Fri 2020-08-28 11:23:00  2020-08-28"
      ]
     },
     "execution_count": 591,
     "metadata": {},
     "output_type": "execute_result"
    }
   ],
   "source": [
    "data = pd.read_csv(\"log.csv\", sep=\";\")\n",
    "str2date = lambda x: datetime.strptime(x, \"%H:%M, %m/%d/%Y\")\n",
    "data[\"DateTime\"] = data[\"DateTime\"].apply(str2date)\n",
    "data[\"Time\"] = data[\"DateTime\"].apply(datetime.time)\n",
    "data[\"Date\"] = data[\"DateTime\"].apply(datetime.date)\n",
    "data.head()"
   ]
  },
  {
   "cell_type": "code",
   "execution_count": 594,
   "metadata": {},
   "outputs": [],
   "source": [
    "def plot_summary_stats(data, metrics=[\"Free Spots\", \"Capacity\"], plotsize=(15,20)):\n",
    "    n_stats = 4\n",
    "    fig, ax = plt.subplots(n_stats,len(metrics), figsize=plotsize)\n",
    "    ax = ax.reshape(n_stats,len(metrics))\n",
    "    \n",
    "    x_step = round(data[\"DateTime\"].shape[0]/n_stats)\n",
    "    weekdays = [\"Mon\", \"Tue\", \"Wed\", \"Thu\", \"Fri\", \"Sat\", \"Sun\"]\n",
    "    \n",
    "    for idx, metric in enumerate(metrics):\n",
    "        ax[0,idx].plot(data[\"DateTime\"], data[metric])\n",
    "        ax[0,idx].set_xticks(data[\"DateTime\"][::x_step])\n",
    "        ax[0,idx].set_xlabel(\"time\")\n",
    "        ax[0,idx].set_ylabel(metric)\n",
    "\n",
    "        for day in weekdays:\n",
    "            by_day = data[data[\"Day\"] == day]\n",
    "            by_day = by_day.rename(columns={metric:day})\n",
    "            by_day.set_index('Time')[day].plot(ax=ax[1,idx], legend=True)\n",
    "        ax[1,idx].set_xlabel(\"time\")\n",
    "        ax[1,idx].set_ylabel(metric)\n",
    "\n",
    "        #data.groupby(\"Day\").mean()[metric].plot(kind=\"bar\", ax=ax[2,idx])\n",
    "        data.set_index(\"Time\").groupby(\"Day\")[metric].plot(kind=\"box\", ax=ax[2,idx])\n",
    "        # density plot / rasterplot / heatmap day, time, capacity/free spots\n",
    "    plt.show()"
   ]
  },
  {
   "cell_type": "code",
   "execution_count": 595,
   "metadata": {},
   "outputs": [
    {
     "name": "stderr",
     "output_type": "stream",
     "text": [
      "/home/jnsbck/Applications/anaconda3/envs/default/lib/python3.7/site-packages/pandas/plotting/_matplotlib/core.py:1235: UserWarning: FixedFormatter should only be used together with FixedLocator\n",
      "  ax.set_xticklabels(xticklabels)\n",
      "/home/jnsbck/Applications/anaconda3/envs/default/lib/python3.7/site-packages/pandas/plotting/_matplotlib/core.py:1235: UserWarning: FixedFormatter should only be used together with FixedLocator\n",
      "  ax.set_xticklabels(xticklabels)\n"
     ]
    },
    {
     "data": {
      "image/png": "[encoded data removed]",
      "text/plain": [
       "<Figure size 1080x1440 with 8 Axes>"
      ]
     },
     "metadata": {
      "needs_background": "light"
     },
     "output_type": "display_data"
    }
   ],
   "source": [
    "plot_summary_stats(data)"
   ]
  },
  {
   "cell_type": "code",
   "execution_count": 555,
   "metadata": {},
   "outputs": [],
   "source": [
    "df = data.groupby(['Time','Day'])[\"Free Spots\"].mean().unstack(fill_value=0)\n",
    "cond = np.logical_and(df.index > datetime.strptime(\"11:00\", \"%H:%M\").time(),df.index < datetime.strptime(\"11:15\", \"%H:%M\").time())"
   ]
  },
  {
   "cell_type": "code",
   "execution_count": 625,
   "metadata": {},
   "outputs": [
    {
     "name": "stdout",
     "output_type": "stream",
     "text": [
      "Empty DataFrame\n",
      "Columns: [Free Spots, Mon]\n",
      "Index: []\n",
      "Empty DataFrame\n",
      "Columns: [Free Spots, Tue]\n",
      "Index: []\n",
      "Empty DataFrame\n",
      "Columns: [Free Spots, Wed]\n",
      "Index: []\n",
      "Empty DataFrame\n",
      "Columns: [Free Spots, Thu]\n",
      "Index: []\n",
      "                     Free Spots  Fri\n",
      "Time     Date                       \n",
      "11:03:00 2020-08-28          38   46\n",
      "11:08:00 2020-08-28          37   48\n",
      "11:13:00 2020-08-28          37   48\n",
      "11:18:00 2020-08-28          33   54\n",
      "11:23:00 2020-08-28          33   54\n",
      "11:28:00 2020-08-28          32   55\n",
      "11:33:00 2020-08-28          32   55\n",
      "11:38:00 2020-08-28          34   52\n",
      "11:43:00 2020-08-28          34   52\n",
      "11:48:00 2020-08-28          35   51\n",
      "11:53:00 2020-08-28          35   51\n",
      "11:58:00 2020-08-28          48   32\n",
      "12:03:00 2020-08-28          48   32\n",
      "12:08:00 2020-08-28          49   31\n",
      "12:13:00 2020-08-28          49   31\n",
      "12:18:00 2020-08-28          49   31\n",
      "12:23:00 2020-08-28          49   31\n",
      "12:28:00 2020-08-28          48   32\n",
      "12:33:00 2020-08-28          48   32\n",
      "12:38:00 2020-08-28          49   31\n",
      "12:43:00 2020-08-28          49   31\n",
      "12:48:00 2020-08-28          47   34\n",
      "12:53:00 2020-08-28          47   34\n",
      "12:58:00 2020-08-28          52   27\n",
      "13:03:00 2020-08-28          52   27\n",
      "13:08:00 2020-08-28          47   34\n",
      "13:13:00 2020-08-28          47   34\n",
      "13:18:00 2020-08-28          45   37\n",
      "13:23:00 2020-08-28          45   37\n",
      "13:28:00 2020-08-28          41   42\n",
      "13:33:00 2020-08-28          41   42\n",
      "13:38:00 2020-08-28          39   45\n",
      "13:43:00 2020-08-28          39   45\n",
      "13:48:00 2020-08-28          37   48\n",
      "13:53:00 2020-08-28          37   48\n",
      "13:58:00 2020-08-28          33   54\n",
      "14:03:00 2020-08-28          33   54\n",
      "14:08:00 2020-08-28          32   55\n",
      "14:14:00 2020-08-28          32   55\n",
      "14:19:00 2020-08-28          30   58\n",
      "14:24:00 2020-08-28          30   58\n",
      "14:29:00 2020-08-28          28   61\n",
      "14:34:00 2020-08-28          28   61\n",
      "14:39:00 2020-08-28          29   59\n",
      "14:44:00 2020-08-28          29   59\n",
      "14:49:00 2020-08-28          30   58\n",
      "14:54:00 2020-08-28          30   58\n",
      "14:59:00 2020-08-28          30   58\n",
      "15:04:00 2020-08-28          30   58\n",
      "Empty DataFrame\n",
      "Columns: [Free Spots, Sat]\n",
      "Index: []\n",
      "Empty DataFrame\n",
      "Columns: [Free Spots, Sun]\n",
      "Index: []\n"
     ]
    }
   ],
   "source": [
    "for day in weekdays:\n",
    "    by_day = data[data[\"Day\"] == day]\n",
    "    by_day = by_day.rename(columns={metric:day})\n",
    "    by_day.groupby([\"Date\", \"Time\"]).mean()[day].plot(ax=ax[1,idx], legend=True)\n",
    "    print(by_day.groupby([\"Time\", \"Date\"]).mean())"
   ]
  },
  {
   "cell_type": "code",
   "execution_count": null,
   "metadata": {},
   "outputs": [],
   "source": [
    "pd.DataFrame({\"Test\":[1,1],\"Test1\":[1,1],\"Test2\":[1,1]}).groupby(\"Test\").mean"
   ]
  },
  {
   "cell_type": "code",
   "execution_count": null,
   "metadata": {},
   "outputs": [],
   "source": [
    "pd.DataFrame().groupby().mean"
   ]
  }
 ],
 "metadata": {
  "kernelspec": {
   "display_name": "Python 3",
   "language": "python",
   "name": "python3"
  },
  "language_info": {
   "codemirror_mode": {
    "name": "ipython",
    "version": 3
   },
   "file_extension": ".py",
   "mimetype": "text/x-python",
   "name": "python",
   "nbconvert_exporter": "python",
   "pygments_lexer": "ipython3",
   "version": "3.7.7"
  }
 },
 "nbformat": 4,
 "nbformat_minor": 4
}
